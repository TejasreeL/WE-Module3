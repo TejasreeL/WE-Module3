{
  "nbformat": 4,
  "nbformat_minor": 0,
  "metadata": {
    "colab": {
      "provenance": [],
      "authorship_tag": "ABX9TyNt3o8reBwTO9Db2FqblBmA",
      "include_colab_link": true
    },
    "kernelspec": {
      "name": "python3",
      "display_name": "Python 3"
    },
    "language_info": {
      "name": "python"
    }
  },
  "cells": [
    {
      "cell_type": "markdown",
      "metadata": {
        "id": "view-in-github",
        "colab_type": "text"
      },
      "source": [
        "<a href=\"https://colab.research.google.com/github/TejasreeL/WE-Module3/blob/main/Idli_distribution.ipynb\" target=\"_parent\"><img src=\"https://colab.research.google.com/assets/colab-badge.svg\" alt=\"Open In Colab\"/></a>"
      ]
    },
    {
      "cell_type": "code",
      "source": [
        "def distribute_idlis(idlis):\n",
        "    count = 0\n",
        "    n = len(idlis)\n",
        "\n",
        "    for i in range(n):\n",
        "        if idlis[i] % 2 != 0:  # If the person has an odd number of idlis\n",
        "            if i == n - 1:  # If it's the last person, we can't distribute idlis\n",
        "                return -1\n",
        "            else:\n",
        "                idlis[i] += 1  # Give one idli to the current person\n",
        "                idlis[i+1] += 1  # Give one idli to the person behind\n",
        "                count += 2  # Increase the count of distributed idlis by 2\n",
        "\n",
        "    return count\n",
        "\n",
        "# Example usage:\n",
        "idlis = [8, 7, 7, 5, 4, 3, 5, 6, 9]\n",
        "result = distribute_idlis(idlis)\n",
        "print(\"Minimum idlis needed:\", result)"
      ],
      "metadata": {
        "colab": {
          "base_uri": "https://localhost:8080/"
        },
        "id": "lBvUHtyIwPuu",
        "outputId": "e4d0f87f-483b-4b8e-a5cd-c48e2d0367cd"
      },
      "execution_count": 6,
      "outputs": [
        {
          "output_type": "stream",
          "name": "stdout",
          "text": [
            "Minimum idlis needed: 10\n"
          ]
        }
      ]
    },
    {
      "cell_type": "code",
      "source": [
        "def distribute_idlis(idlis):\n",
        "    count = 0\n",
        "    n = len(idlis)\n",
        "\n",
        "    for i in range(n - 1):\n",
        "        if idlis[i] % 2 != 0:  # If the person has an odd number of idlis\n",
        "            idlis[i] += 1  # Give one idli to the current person\n",
        "            idlis[i+1] += 1  # Give one idli to the person behind\n",
        "            count += 2  # Increase the count of distributed idlis by 2\n",
        "\n",
        "    if idlis[-1] % 2 != 0:  # If the last person has an odd number of idlis\n",
        "        return -1\n",
        "\n",
        "    return count\n",
        "\n",
        "# Example usage:\n",
        "idlis = [8, 7, 7, 5, 4, 3, 5, 6, 9]\n",
        "print(distribute_idlis(idlis))  # Output: 10\n"
      ],
      "metadata": {
        "colab": {
          "base_uri": "https://localhost:8080/"
        },
        "id": "mpT9w5EPxXQC",
        "outputId": "647882ff-43f4-4605-8fa7-10775d8e83eb"
      },
      "execution_count": 8,
      "outputs": [
        {
          "output_type": "stream",
          "name": "stdout",
          "text": [
            "10\n"
          ]
        }
      ]
    },
    {
      "cell_type": "code",
      "source": [
        "def distribute_idlis_recursive(idlis, count=0):\n",
        "    n = len(idlis)\n",
        "\n",
        "    for i in range(n - 1):\n",
        "        if idlis[i] % 2 != 0:  # If the person has an odd number of idlis\n",
        "            idlis[i] += 1  # Give one idli to the current person\n",
        "            idlis[i+1] += 1  # Give one idli to the person behind\n",
        "            count += 2  # Increase the count of distributed idlis by 2\n",
        "\n",
        "    if idlis[-1] % 2 != 0:  # If the last person has an odd number of idlis\n",
        "        return -1\n",
        "\n",
        "    # Check if all idlis are even, if not, recurse\n",
        "    if any(idli % 2 != 0 for idli in idlis):\n",
        "        return distribute_idlis_recursive(idlis, count)\n",
        "\n",
        "    return count\n",
        "\n",
        "# Example usage:\n",
        "idlis = [8, 7, 7, 5, 4, 3, 5, 6, 9]\n",
        "print(distribute_idlis_recursive(idlis))  # Output: 10\n"
      ],
      "metadata": {
        "colab": {
          "base_uri": "https://localhost:8080/"
        },
        "id": "p1ogA9lRyYr0",
        "outputId": "25cc8796-fa9b-476a-abc0-89076db7b86b"
      },
      "execution_count": 9,
      "outputs": [
        {
          "output_type": "stream",
          "name": "stdout",
          "text": [
            "10\n"
          ]
        }
      ]
    },
    {
      "cell_type": "code",
      "source": [
        "def distribute_idlis_recursive(idlis):\n",
        "    n = len(idlis)\n",
        "\n",
        "    # Base case: if only one person is left\n",
        "    if n == 1:\n",
        "        if idlis[0] % 2 == 0:\n",
        "            return 0\n",
        "        else:\n",
        "            return -1\n",
        "\n",
        "    # Distribute idlis to current person and the person behind\n",
        "    if idlis[0] % 2 != 0:\n",
        "        idlis[0] += 1\n",
        "        idlis[1] += 1\n",
        "\n",
        "    # Recursively distribute remaining idlis\n",
        "    count = distribute_idlis_recursive(idlis[1:])\n",
        "    if count == -1:  # If it's not possible to distribute idlis in remaining persons\n",
        "        return -1\n",
        "    else:\n",
        "        return count + 2  # Increase the count by 2 for current distribution\n",
        "\n",
        "# Example usage:\n",
        "idlis = [8, 7, 7, 5, 4, 3, 5, 6, 9]\n",
        "print(distribute_idlis_recursive(idlis))  # Output: 10\n"
      ],
      "metadata": {
        "colab": {
          "base_uri": "https://localhost:8080/"
        },
        "id": "6w64l8ZeyjHZ",
        "outputId": "629b431a-1536-4c53-f55f-a9f6828d1a6b"
      },
      "execution_count": 10,
      "outputs": [
        {
          "output_type": "stream",
          "name": "stdout",
          "text": [
            "16\n"
          ]
        }
      ]
    },
    {
      "cell_type": "code",
      "source": [
        "def distribute_idlis_recursive(idlis):\n",
        "    n = len(idlis)\n",
        "\n",
        "    # Base case: if only one person is left\n",
        "    if n == 1:\n",
        "        if idlis[0] % 2 == 0:\n",
        "            return 0\n",
        "        else:\n",
        "            return -1\n",
        "\n",
        "    # Distribute idlis to current person and the person behind if needed\n",
        "    if idlis[0] % 2 != 0:\n",
        "        idlis[0] += 1\n",
        "        idlis[1] += 1\n",
        "\n",
        "    # Recursively distribute remaining idlis\n",
        "    count = distribute_idlis_recursive(idlis[1:])\n",
        "    if count == -1:  # If it's not possible to distribute idlis in remaining persons\n",
        "        return -1\n",
        "    else:\n",
        "        return count + 2  # Increase the count by 2 for current distribution\n",
        "\n",
        "# Example usage:\n",
        "idlis = [8, 7, 7, 5, 4, 3, 5, 6, 9]\n",
        "print(distribute_idlis_recursive(idlis))\n"
      ],
      "metadata": {
        "colab": {
          "base_uri": "https://localhost:8080/"
        },
        "id": "-4HZhzkKzeoB",
        "outputId": "ad272e59-669d-4303-cbe7-5eeb3e1aa27c"
      },
      "execution_count": 11,
      "outputs": [
        {
          "output_type": "stream",
          "name": "stdout",
          "text": [
            "16\n"
          ]
        }
      ]
    },
    {
      "cell_type": "code",
      "source": [
        "def distribute_idlis_recursive(idlis):\n",
        "    n = len(idlis)\n",
        "\n",
        "    # Base case: if only one person is left\n",
        "    if n == 1:\n",
        "        if idlis[0] % 2 == 0:\n",
        "            return 0\n",
        "        else:\n",
        "            return -1\n",
        "\n",
        "    # Distribute idlis to current person and the person behind if needed\n",
        "    if idlis[0] % 2 != 0:\n",
        "        idlis[0] += 1\n",
        "        idlis[1] += 1\n",
        "\n",
        "    # Recursively distribute remaining idlis\n",
        "    remaining_idlis_count = distribute_idlis_recursive(idlis[1:])\n",
        "    if remaining_idlis_count == -1:  # If it's not possible to distribute idlis in remaining persons\n",
        "        return -1\n",
        "    else:\n",
        "        return remaining_idlis_count + 2  # Increase the count by 2 for current distribution\n",
        "\n",
        "# Example usage:\n",
        "idlis = [8, 7, 7, 5, 4, 3, 5, 6, 9]\n",
        "print(distribute_idlis_recursive(idlis))\n"
      ],
      "metadata": {
        "colab": {
          "base_uri": "https://localhost:8080/"
        },
        "id": "Bl5-WXgUz4mA",
        "outputId": "773b6b5a-de8f-46d2-c092-20525bf2cbde"
      },
      "execution_count": 14,
      "outputs": [
        {
          "output_type": "stream",
          "name": "stdout",
          "text": [
            "16\n"
          ]
        }
      ]
    },
    {
      "cell_type": "code",
      "source": [
        "def distribute_idlis_recursive(idlis):\n",
        "    n = len(idlis)\n",
        "\n",
        "    # Base case: if only one person is left\n",
        "    if n == 1:\n",
        "        if idlis[0] % 2 == 0:\n",
        "            return 0\n",
        "        else:\n",
        "            return -1\n",
        "\n",
        "    # Distribute idlis to current person and the person behind if needed\n",
        "    if idlis[0] % 2 != 0:\n",
        "        idlis[0] += 1\n",
        "        idlis[1] += 1\n",
        "\n",
        "    # Recursively distribute remaining idlis\n",
        "    remaining_idlis_count = sum(idli % 2 != 0 for idli in idlis[1:])\n",
        "    if remaining_idlis_count > 0:  # If there are remaining persons with odd idlis\n",
        "        return distribute_idlis_recursive(idlis[1:]) + 2\n",
        "    else:\n",
        "        return 0  # No need to distribute idlis to the first person\n",
        "\n",
        "# Example usage:\n",
        "idlis = [8, 7, 7, 5, 4, 3, 5, 6, 9]\n",
        "print(distribute_idlis_recursive(idlis))\n"
      ],
      "metadata": {
        "colab": {
          "base_uri": "https://localhost:8080/"
        },
        "id": "Vfkn1mv80IO1",
        "outputId": "96e76ddd-8f36-433b-969c-ebd6bd01fc10"
      },
      "execution_count": 15,
      "outputs": [
        {
          "output_type": "stream",
          "name": "stdout",
          "text": [
            "14\n"
          ]
        }
      ]
    },
    {
      "cell_type": "code",
      "source": [
        "def distribute_idlis_recursive(idlis):\n",
        "    count = 0\n",
        "    n = len(idlis)\n",
        "\n",
        "    for i in range(n - 1):\n",
        "        if idlis[i] % 2 != 0:  # If the person has an odd number of idlis\n",
        "            idlis[i] += 1  # Give one idli to the current person\n",
        "            idlis[i+1] += 1  # Give one idli to the person behind\n",
        "            count += 2  # Increase the count of distributed idlis by 2\n",
        "\n",
        "    if idlis[-1] % 2 != 0:  # If the last person has an odd number of idlis\n",
        "         return -1\n",
        "\n",
        "    return count\n",
        "\n",
        "# Example usage:\n",
        "idlis = [8, 7, 7, 5, 4, 3, 5, 6, 9]\n",
        "print(distribute_idlis_recursive(idlis))  # Output: 10"
      ],
      "metadata": {
        "colab": {
          "base_uri": "https://localhost:8080/"
        },
        "id": "fC-cHMxA7l8V",
        "outputId": "56a03132-25c0-4cea-826e-6f718aaf43e8"
      },
      "execution_count": 19,
      "outputs": [
        {
          "output_type": "stream",
          "name": "stdout",
          "text": [
            "10\n"
          ]
        }
      ]
    },
    {
      "cell_type": "code",
      "source": [],
      "metadata": {
        "id": "LNlMQDNU7nr5"
      },
      "execution_count": null,
      "outputs": []
    }
  ]
}