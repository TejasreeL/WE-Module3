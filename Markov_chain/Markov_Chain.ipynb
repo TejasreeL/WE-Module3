{
  "nbformat": 4,
  "nbformat_minor": 0,
  "metadata": {
    "colab": {
      "provenance": [],
      "authorship_tag": "ABX9TyOGvLBhL4ggQ9VaFDRWZM/k",
      "include_colab_link": true
    },
    "kernelspec": {
      "name": "python3",
      "display_name": "Python 3"
    },
    "language_info": {
      "name": "python"
    }
  },
  "cells": [
    {
      "cell_type": "markdown",
      "metadata": {
        "id": "view-in-github",
        "colab_type": "text"
      },
      "source": [
        "<a href=\"https://colab.research.google.com/github/TejasreeL/WE-Module3/blob/main/Assignment4/Markov_Chain.ipynb\" target=\"_parent\"><img src=\"https://colab.research.google.com/assets/colab-badge.svg\" alt=\"Open In Colab\"/></a>"
      ]
    },
    {
      "cell_type": "code",
      "execution_count": 1,
      "metadata": {
        "colab": {
          "base_uri": "https://localhost:8080/"
        },
        "id": "unook1mGwDV6",
        "outputId": "786771c6-c868-4708-accc-11509d29bba7"
      },
      "outputs": [
        {
          "output_type": "stream",
          "name": "stdout",
          "text": [
            "This is an\n"
          ]
        }
      ],
      "source": [
        "import random\n",
        "import re\n",
        "\n",
        "def read_file(filename):\n",
        "    with open(filename, 'r', encoding='utf-8') as file:\n",
        "        text = file.read()\n",
        "    return text\n",
        "\n",
        "def preprocess_text(text):\n",
        "    # Remove punctuation and split text into words\n",
        "    text = re.sub(r'[^\\w\\s]', '', text)\n",
        "    words = text.split()\n",
        "    return words\n",
        "\n",
        "def generate_chain(words, chain_length):\n",
        "    chain = {}\n",
        "    for i in range(len(words) - chain_length):\n",
        "        state = tuple(words[i:i + chain_length])\n",
        "        next_word = words[i + chain_length]\n",
        "        if state not in chain:\n",
        "            chain[state] = []\n",
        "        chain[state].append(next_word)\n",
        "    return chain\n",
        "\n",
        "def generate(filename: str, start_words: list[str], chain_length: int, num_generated: int) -> str:\n",
        "    text = read_file(filename)\n",
        "    words = preprocess_text(text)\n",
        "    chain = generate_chain(words, chain_length)\n",
        "\n",
        "    generated_words = start_words.copy()\n",
        "\n",
        "    # Ensure start_words is of correct length\n",
        "    if len(start_words) != chain_length:\n",
        "        raise ValueError(\"The length of start_words must be equal to chain_length\")\n",
        "\n",
        "    # Generate sentence\n",
        "    for _ in range(num_generated):\n",
        "        state = tuple(generated_words[-chain_length:])\n",
        "        if state not in chain:\n",
        "            break\n",
        "        next_word = random.choice(chain[state])\n",
        "        generated_words.append(next_word)\n",
        "\n",
        "    generated_sentence = ' '.join(generated_words)\n",
        "    return generated_sentence\n",
        "\n",
        "# Example usage:\n",
        "filename = \"book.txt\"\n",
        "start_words = [\"This\", \"is\", \"an\"]  # Example start words\n",
        "chain_length = 3\n",
        "num_generated = 20\n",
        "generated_sentence = generate(filename, start_words, chain_length, num_generated)\n",
        "print(generated_sentence)\n"
      ]
    },
    {
      "cell_type": "code",
      "source": [],
      "metadata": {
        "id": "TKOMrmYTwFuF"
      },
      "execution_count": null,
      "outputs": []
    }
  ]
}